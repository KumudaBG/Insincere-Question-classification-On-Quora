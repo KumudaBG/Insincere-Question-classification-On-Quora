{
  "nbformat": 4,
  "nbformat_minor": 0,
  "metadata": {
    "colab": {
      "name": "ClassifierPrediction.ipynb",
      "provenance": [],
      "collapsed_sections": [],
      "authorship_tag": "ABX9TyM3kPJD22ZycuG7e3Jksjcz",
      "include_colab_link": true
    },
    "kernelspec": {
      "name": "python3",
      "display_name": "Python 3"
    },
    "language_info": {
      "name": "python"
    }
  },
  "cells": [
    {
      "cell_type": "markdown",
      "metadata": {
        "id": "view-in-github",
        "colab_type": "text"
      },
      "source": [
        "<a href=\"https://colab.research.google.com/github/KumudaBG/Insincere-Question-classification-On-Quora/blob/main/ClassifierPrediction.ipynb\" target=\"_parent\"><img src=\"https://colab.research.google.com/assets/colab-badge.svg\" alt=\"Open In Colab\"/></a>"
      ]
    },
    {
      "cell_type": "code",
      "metadata": {
        "id": "R-4enDJQ-gd4"
      },
      "source": [
        "from joblib import load\n"
      ],
      "execution_count": null,
      "outputs": []
    },
    {
      "cell_type": "code",
      "metadata": {
        "id": "oXX5X4D_-j70"
      },
      "source": [
        "\n",
        "classifier = load('NBClassifierModel')\n",
        "\n",
        "tfidf_v = load('tfidf')\n",
        "X = tfidf_v.transform([\"Do South Indian feel offended by depicting South Indian men as dark clown in Bollywood movies? Do you laugh like most Indian because no harm is really intended.\",\"What is it about K-pop that people love?\"])#.toarray()\n",
        "\n",
        "predictions_test = classifier.predict(X)\n",
        "print(\"predictions_test\",predictions_test)"
      ],
      "execution_count": null,
      "outputs": []
    }
  ]
}